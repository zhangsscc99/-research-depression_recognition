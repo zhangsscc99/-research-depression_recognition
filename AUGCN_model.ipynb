{
 "cells": [
  {
   "cell_type": "code",
   "execution_count": 1,
   "metadata": {},
   "outputs": [],
   "source": [
    "import torch\n",
    "import torch.nn as nn\n",
    "\n",
    "class GCNLayer(nn.Module):\n",
    "    def __init__(self, in_features, out_features):\n",
    "        super(GCNLayer, self).__init__()\n",
    "        self.in_features = in_features\n",
    "        self.out_features = out_features\n",
    "        self.weight = nn.Parameter(torch.Tensor(in_features, out_features))\n",
    "        self.bias = nn.Parameter(torch.Tensor(out_features))\n",
    "        self.reset_parameters()\n",
    "\n",
    "    def reset_parameters(self):\n",
    "        nn.init.xavier_uniform_(self.weight)\n",
    "        nn.init.zeros_(self.bias)\n",
    "\n",
    "    def forward(self, input, adjacency):\n",
    "        support = torch.mm(input, self.weight)\n",
    "        output = torch.spmm(adjacency, support)\n",
    "        return output + self.bias\n"
   ]
  },
  {
   "cell_type": "code",
   "execution_count": 2,
   "metadata": {},
   "outputs": [],
   "source": [
    "class EmbeddingLayer(nn.Module):\n",
    "    def __init__(self, num_embeddings, embedding_dim):\n",
    "        super(EmbeddingLayer, self).__init__()\n",
    "        self.num_embeddings = num_embeddings\n",
    "        self.embedding_dim = embedding_dim\n",
    "        self.embedding = nn.Embedding(num_embeddings, embedding_dim)\n",
    "\n",
    "    def forward(self, input):\n",
    "        return self.embedding(input)\n"
   ]
  },
  {
   "cell_type": "code",
   "execution_count": 4,
   "metadata": {},
   "outputs": [],
   "source": [
    "class ETran(nn.Module):\n",
    "    def __init__(self, in_features):\n",
    "        super(ETran, self).__init__()\n",
    "        self.in_features = in_features\n",
    "        self.out_features = in_features\n",
    "        self.weight = nn.Parameter(torch.Tensor(in_features, in_features))\n",
    "        self.reset_parameters()\n",
    "\n",
    "    def reset_parameters(self):\n",
    "        nn.init.xavier_uniform_(self.weight)\n",
    "\n",
    "    def forward(self, input):\n",
    "        return input @ self.weight\n",
    "class MTran(nn.Module):\n",
    "    def __init__(self, in_features):\n",
    "        super(MTran, self).__init__()\n",
    "        self.in_features = in_features\n",
    "        self.out_features = in_features\n",
    "        self.weight = nn.Parameter(torch.Tensor(in_features, in_features))\n",
    "        self.reset_parameters()\n",
    "\n",
    "    def reset_parameters(self):\n",
    "        nn.init.xavier_uniform_(self.weight)\n",
    "\n",
    "    def forward(self, input):\n",
    "        return input @ self.weight"
   ]
  },
  {
   "cell_type": "code",
   "execution_count": 3,
   "metadata": {},
   "outputs": [
    {
     "ename": "SyntaxError",
     "evalue": "invalid syntax (<ipython-input-3-674eab3c8bd7>, line 9)",
     "output_type": "error",
     "traceback": [
      "\u001b[0;36m  File \u001b[0;32m\"<ipython-input-3-674eab3c8bd7>\"\u001b[0;36m, line \u001b[0;32m9\u001b[0m\n\u001b[0;31m    self.classifier1 = nn.\u001b[0m\n\u001b[0m                          ^\u001b[0m\n\u001b[0;31mSyntaxError\u001b[0m\u001b[0;31m:\u001b[0m invalid syntax\n"
     ]
    }
   ],
   "source": [
    "class AUGCN(nn.Module):\n",
    "    def __init__(self, num_embeddings, embedding_dim, gcn_hidden_dim, num_classes):\n",
    "        super(AUGCN, self).__init__()\n",
    "        self.embedding_layer = EmbeddingLayer(num_embeddings, embedding_dim)\n",
    "        self.gcn1 = GCNLayer(embedding_dim, gcn_hidden_dim)\n",
    "        self.gcn2 = GCNLayer(gcn_hidden_dim, gcn_hidden_dim)\n",
    "        self.etran = ETran(gcn_hidden_dim)\n",
    "        self.mtran = MTran(gcn_hidden_dim)\n",
    "        self.classifier1 = nn.\n"
   ]
  },
  {
   "cell_type": "code",
   "execution_count": null,
   "metadata": {},
   "outputs": [],
   "source": [
    "import numpy as np\n",
    "\n",
    "# Define the adjacency matrix\n",
    "adjacency_matrix = np.array([[0, 1, 1, 0, 0, 0, 0, 0, 0],\n",
    "                             [1, 0, 1, 1, 0, 0, 0, 0, 0],\n",
    "                             [1, 1, 0, 1, 0, 0, 0, 0, 0],\n",
    "                             [0, 1, 1, 0, 1, 0, 0, 0, 0],\n",
    "                             [0, 0, 0, 1, 0, 1, 0, 0, 0],\n",
    "                             [0, 0, 0, 0, 1, 0, 1, 0, 0],\n",
    "                             [0, 0, 0, 0, 0, 1, 0, 1, 1],\n",
    "                             [0, 0, 0, 0, 0, 0, 1, 0, 1],\n",
    "                             [0, 0, 0, 0, 0, 0, 1, 1, 0]])\n"
   ]
  },
  {
   "cell_type": "code",
   "execution_count": null,
   "metadata": {},
   "outputs": [],
   "source": []
  }
 ],
 "metadata": {
  "kernelspec": {
   "display_name": "base",
   "language": "python",
   "name": "python3"
  },
  "language_info": {
   "codemirror_mode": {
    "name": "ipython",
    "version": 3
   },
   "file_extension": ".py",
   "mimetype": "text/x-python",
   "name": "python",
   "nbconvert_exporter": "python",
   "pygments_lexer": "ipython3",
   "version": "3.8.5"
  },
  "vscode": {
   "interpreter": {
    "hash": "40d3a090f54c6569ab1632332b64b2c03c39dcf918b08424e98f38b5ae0af88f"
   }
  }
 },
 "nbformat": 4,
 "nbformat_minor": 4
}
